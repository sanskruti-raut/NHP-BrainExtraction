{
 "cells": [
  {
   "cell_type": "code",
   "execution_count": 13,
   "id": "d18543f7-f80f-4e51-bdc1-2482db303243",
   "metadata": {},
   "outputs": [],
   "source": [
    "import nibabel as nib\n",
    "from nilearn import image, plotting\n",
    "from nilearn.plotting import plot_roi\n",
    "import matplotlib.pyplot as plt\n",
    "import os\n",
    "import SimpleITK as sitk\n",
    "import tempfile"
   ]
  },
  {
   "cell_type": "code",
   "execution_count": 14,
   "id": "ac4f6b07-bb7b-471d-800c-020bf03c5ba9",
   "metadata": {},
   "outputs": [],
   "source": [
    "# Paths to input T1-weighted image and pre-generated brain mask\n",
    "t1w_image_path = 'site-lyon/sub-032276/ses-001/anat/sub-032276_ses-001_run-1_T1w.nii.gz'\n",
    "t1w_mask_image_path = '/scratch1/sanskrut/outdir1/sub-032276_ses-001_run-1_T1w_pre_mask.nii.gz'"
   ]
  },
  {
   "cell_type": "code",
   "execution_count": 15,
   "id": "a464ea93-0ddf-48fb-8c8a-0a4970ce149b",
   "metadata": {},
   "outputs": [],
   "source": [
    "# Variables:\n",
    "\n",
    "t1w_image_path = 'site-lyon/sub-032276/ses-001/anat/sub-032276_ses-001_run-1_T1w.nii.gz'\n",
    "model_path = 'NHP-BrainExtraction/UNet_Model/models/Site-All-T-epoch_36.model'\n",
    "output_dir = 'outdir1'\n"
   ]
  },
  {
   "cell_type": "code",
   "execution_count": 22,
   "id": "6688c0a3-9201-45e9-a49e-02860a0f01a9",
   "metadata": {},
   "outputs": [
    {
     "name": "stdout",
     "output_type": "stream",
     "text": [
      "=============================Permforming Skullstripping=============================\n"
     ]
    },
    {
     "name": "stderr",
     "output_type": "stream",
     "text": [
      "Traceback (most recent call last):\n",
      "  File \"/scratch1/sanskrut/NHP-BrainExtraction/UNet_Model/muSkullStrip.py\", line 35, in <module>\n",
      "    checkpoint=torch.load(args.predict_model, map_location={'cuda:0':'cpu'})\n",
      "  File \"/home1/sanskrut/.local/lib/python3.9/site-packages/torch/serialization.py\", line 986, in load\n",
      "    with _open_file_like(f, 'rb') as opened_file:\n",
      "  File \"/home1/sanskrut/.local/lib/python3.9/site-packages/torch/serialization.py\", line 435, in _open_file_like\n",
      "    return _open_file(name_or_buffer, mode)\n",
      "  File \"/home1/sanskrut/.local/lib/python3.9/site-packages/torch/serialization.py\", line 416, in __init__\n",
      "    super().__init__(open(name, mode))\n",
      "FileNotFoundError: [Errno 2] No such file or directory: 'NHP-BrainExtraction/UNet_Model/models/Site-All-T-epoch_36.model'\n"
     ]
    },
    {
     "data": {
      "text/plain": [
       "256"
      ]
     },
     "execution_count": 22,
     "metadata": {},
     "output_type": "execute_result"
    }
   ],
   "source": [
    "# Execute skull stripping command with variables\n",
    "skull_stripping_cmd = f\"python3 NHP-BrainExtraction/UNet_Model/muSkullStrip.py -in {t1w_image_path} -model {model_path} -out {output_dir}\"\n",
    "os.system(skull_stripping_cmd)"
   ]
  },
  {
   "cell_type": "code",
   "execution_count": 17,
   "id": "9fbadf54-ea35-4211-91b4-5d2abf6b237e",
   "metadata": {},
   "outputs": [
    {
     "name": "stderr",
     "output_type": "stream",
     "text": [
      "python3: can't open file '/scratch1/sanskrut/NHP-BrainExtraction/dev/NHP-BrainExtraction/UNet_Model/muSkullStrip.py': [Errno 2] No such file or directory\n"
     ]
    },
    {
     "data": {
      "text/plain": [
       "512"
      ]
     },
     "execution_count": 17,
     "metadata": {},
     "output_type": "execute_result"
    }
   ],
   "source": [
    "# Execute skull stripping command with variables\n",
    "skull_stripping_cmd = f\"python3 {script_path} -in {t1w_image_path} -model {model_path} -out {output_dir}\"\n",
    "os.system(skull_stripping_cmd)"
   ]
  },
  {
   "cell_type": "code",
   "execution_count": 18,
   "id": "bbcc17d8-ef8b-47d3-8561-89a1e19cb5b1",
   "metadata": {},
   "outputs": [
    {
     "ename": "FileNotFoundError",
     "evalue": "No such file or no access: 'site-lyon/sub-032276/ses-001/anat/sub-032276_ses-001_run-1_T1w.nii.gz'",
     "output_type": "error",
     "traceback": [
      "\u001b[0;31m---------------------------------------------------------------------------\u001b[0m",
      "\u001b[0;31mFileNotFoundError\u001b[0m                         Traceback (most recent call last)",
      "File \u001b[0;32m~/.local/lib/python3.9/site-packages/nibabel/loadsave.py:100\u001b[0m, in \u001b[0;36mload\u001b[0;34m(filename, **kwargs)\u001b[0m\n\u001b[1;32m     99\u001b[0m \u001b[38;5;28;01mtry\u001b[39;00m:\n\u001b[0;32m--> 100\u001b[0m     stat_result \u001b[38;5;241m=\u001b[39m \u001b[43mos\u001b[49m\u001b[38;5;241;43m.\u001b[39;49m\u001b[43mstat\u001b[49m\u001b[43m(\u001b[49m\u001b[43mfilename\u001b[49m\u001b[43m)\u001b[49m\n\u001b[1;32m    101\u001b[0m \u001b[38;5;28;01mexcept\u001b[39;00m \u001b[38;5;167;01mOSError\u001b[39;00m:\n",
      "\u001b[0;31mFileNotFoundError\u001b[0m: [Errno 2] No such file or directory: 'site-lyon/sub-032276/ses-001/anat/sub-032276_ses-001_run-1_T1w.nii.gz'",
      "\nDuring handling of the above exception, another exception occurred:\n",
      "\u001b[0;31mFileNotFoundError\u001b[0m                         Traceback (most recent call last)",
      "Input \u001b[0;32mIn [18]\u001b[0m, in \u001b[0;36m<cell line: 2>\u001b[0;34m()\u001b[0m\n\u001b[1;32m      1\u001b[0m \u001b[38;5;66;03m# Load the T1-weighted image and brain mask\u001b[39;00m\n\u001b[0;32m----> 2\u001b[0m t1w_image \u001b[38;5;241m=\u001b[39m \u001b[43mnib\u001b[49m\u001b[38;5;241;43m.\u001b[39;49m\u001b[43mload\u001b[49m\u001b[43m(\u001b[49m\u001b[43mt1w_image_path\u001b[49m\u001b[43m)\u001b[49m\n\u001b[1;32m      3\u001b[0m brain_mask \u001b[38;5;241m=\u001b[39m nib\u001b[38;5;241m.\u001b[39mload(t1w_mask_image_path)\n",
      "File \u001b[0;32m~/.local/lib/python3.9/site-packages/nibabel/loadsave.py:102\u001b[0m, in \u001b[0;36mload\u001b[0;34m(filename, **kwargs)\u001b[0m\n\u001b[1;32m    100\u001b[0m     stat_result \u001b[38;5;241m=\u001b[39m os\u001b[38;5;241m.\u001b[39mstat(filename)\n\u001b[1;32m    101\u001b[0m \u001b[38;5;28;01mexcept\u001b[39;00m \u001b[38;5;167;01mOSError\u001b[39;00m:\n\u001b[0;32m--> 102\u001b[0m     \u001b[38;5;28;01mraise\u001b[39;00m \u001b[38;5;167;01mFileNotFoundError\u001b[39;00m(\u001b[38;5;124mf\u001b[39m\u001b[38;5;124m\"\u001b[39m\u001b[38;5;124mNo such file or no access: \u001b[39m\u001b[38;5;124m'\u001b[39m\u001b[38;5;132;01m{\u001b[39;00mfilename\u001b[38;5;132;01m}\u001b[39;00m\u001b[38;5;124m'\u001b[39m\u001b[38;5;124m\"\u001b[39m)\n\u001b[1;32m    103\u001b[0m \u001b[38;5;28;01mif\u001b[39;00m stat_result\u001b[38;5;241m.\u001b[39mst_size \u001b[38;5;241m<\u001b[39m\u001b[38;5;241m=\u001b[39m \u001b[38;5;241m0\u001b[39m:\n\u001b[1;32m    104\u001b[0m     \u001b[38;5;28;01mraise\u001b[39;00m ImageFileError(\u001b[38;5;124mf\u001b[39m\u001b[38;5;124m\"\u001b[39m\u001b[38;5;124mEmpty file: \u001b[39m\u001b[38;5;124m'\u001b[39m\u001b[38;5;132;01m{\u001b[39;00mfilename\u001b[38;5;132;01m}\u001b[39;00m\u001b[38;5;124m'\u001b[39m\u001b[38;5;124m\"\u001b[39m)\n",
      "\u001b[0;31mFileNotFoundError\u001b[0m: No such file or no access: 'site-lyon/sub-032276/ses-001/anat/sub-032276_ses-001_run-1_T1w.nii.gz'"
     ]
    }
   ],
   "source": [
    "# Load the T1-weighted image and brain mask\n",
    "t1w_image = nib.load(t1w_image_path)\n",
    "brain_mask = nib.load(t1w_mask_image_path)"
   ]
  },
  {
   "cell_type": "code",
   "execution_count": 19,
   "id": "366f16d0-fa2e-460c-84dd-6da3b0c73145",
   "metadata": {},
   "outputs": [
    {
     "ename": "NameError",
     "evalue": "name 'brain_mask' is not defined",
     "output_type": "error",
     "traceback": [
      "\u001b[0;31m---------------------------------------------------------------------------\u001b[0m",
      "\u001b[0;31mNameError\u001b[0m                                 Traceback (most recent call last)",
      "Input \u001b[0;32mIn [19]\u001b[0m, in \u001b[0;36m<cell line: 1>\u001b[0;34m()\u001b[0m\n\u001b[0;32m----> 1\u001b[0m plotting\u001b[38;5;241m.\u001b[39mplot_anat(\u001b[43mbrain_mask\u001b[49m)\n",
      "\u001b[0;31mNameError\u001b[0m: name 'brain_mask' is not defined"
     ]
    }
   ],
   "source": [
    "plotting.plot_anat(brain_mask)"
   ]
  },
  {
   "cell_type": "code",
   "execution_count": 20,
   "id": "3cc37424-94f6-45b8-800c-3da50ad2e838",
   "metadata": {},
   "outputs": [
    {
     "ename": "NameError",
     "evalue": "name 't1w_image' is not defined",
     "output_type": "error",
     "traceback": [
      "\u001b[0;31m---------------------------------------------------------------------------\u001b[0m",
      "\u001b[0;31mNameError\u001b[0m                                 Traceback (most recent call last)",
      "Input \u001b[0;32mIn [20]\u001b[0m, in \u001b[0;36m<cell line: 2>\u001b[0;34m()\u001b[0m\n\u001b[1;32m      1\u001b[0m \u001b[38;5;66;03m# Apply the mask to the original T1-weighted image\u001b[39;00m\n\u001b[0;32m----> 2\u001b[0m masked_t1w_data \u001b[38;5;241m=\u001b[39m \u001b[43mt1w_image\u001b[49m\u001b[38;5;241m.\u001b[39mget_fdata() \u001b[38;5;241m*\u001b[39m brain_mask\u001b[38;5;241m.\u001b[39mget_fdata()\n\u001b[1;32m      3\u001b[0m masked_t1w \u001b[38;5;241m=\u001b[39m nib\u001b[38;5;241m.\u001b[39mNifti1Image(masked_t1w_data, t1w_image\u001b[38;5;241m.\u001b[39maffine)\n",
      "\u001b[0;31mNameError\u001b[0m: name 't1w_image' is not defined"
     ]
    }
   ],
   "source": [
    "# Apply the mask to the original T1-weighted image\n",
    "masked_t1w_data = t1w_image.get_fdata() * brain_mask.get_fdata()\n",
    "masked_t1w = nib.Nifti1Image(masked_t1w_data, t1w_image.affine)"
   ]
  },
  {
   "cell_type": "code",
   "execution_count": 14,
   "id": "cf6551d2-6061-4c80-ac89-542e29e392cc",
   "metadata": {},
   "outputs": [
    {
     "ename": "NameError",
     "evalue": "name 'masked_t1w' is not defined",
     "output_type": "error",
     "traceback": [
      "\u001b[0;31m---------------------------------------------------------------------------\u001b[0m",
      "\u001b[0;31mNameError\u001b[0m                                 Traceback (most recent call last)",
      "Input \u001b[0;32mIn [14]\u001b[0m, in \u001b[0;36m<cell line: 1>\u001b[0;34m()\u001b[0m\n\u001b[0;32m----> 1\u001b[0m plotting\u001b[38;5;241m.\u001b[39mplot_anat(\u001b[43mmasked_t1w\u001b[49m)\n",
      "\u001b[0;31mNameError\u001b[0m: name 'masked_t1w' is not defined"
     ]
    }
   ],
   "source": [
    "plotting.plot_anat(masked_t1w)"
   ]
  },
  {
   "cell_type": "code",
   "execution_count": null,
   "id": "3049682e-8195-4554-a67f-e79183415c1a",
   "metadata": {},
   "outputs": [],
   "source": [
    "# Save masked T1-weighted image with only brain\n",
    "subject_name = os.path.basename(t1w_image_path).split('_')[0]\n",
    "masked_t1w_filename = f\"{subject_name}.bse.nii.gz\"\n",
    "masked_t1w_path = os.path.join('outdir2', masked_t1w_filename)\n",
    "nib.save(masked_t1w, masked_t1w_path)"
   ]
  },
  {
   "cell_type": "code",
   "execution_count": null,
   "id": "65b5c31a-263a-46a2-b328-d59b64f8207b",
   "metadata": {},
   "outputs": [],
   "source": [
    "# Save the brain mask\n",
    "brain_mask_filename = f\"{subject_name}.mask.nii.gz\"\n",
    "brain_mask_path = os.path.join('outdir3', brain_mask_filename)\n",
    "nib.save(brain_mask, brain_mask_path)"
   ]
  },
  {
   "cell_type": "code",
   "execution_count": null,
   "id": "dac76474-c9a8-4ee8-a882-216fee006d43",
   "metadata": {},
   "outputs": [],
   "source": [
    "# Perform N4 bias field correction\n",
    "def n4_bias_field_correction(image_path):\n",
    "    # Load the image\n",
    "    img = nib.load(image_path)\n",
    "    data = img.get_fdata()\n",
    "    \n",
    "    # Convert to SimpleITK image\n",
    "    sitk_img = sitk.GetImageFromArray(data)\n",
    "    \n",
    "    # Create mask for N4 bias field correction\n",
    "    mask = sitk.OtsuThreshold(sitk_img)\n",
    "    \n",
    "    # Perform N4 bias field correction\n",
    "    corrected_img = sitk.N4BiasFieldCorrection(sitk_img, mask)\n",
    "    \n",
    "    # Convert back to numpy array\n",
    "    corrected_data = sitk.GetArrayFromImage(corrected_img)\n",
    "    \n",
    "    # Save the corrected image\n",
    "    subject_name = os.path.basename(image_path).split('_')[0]\n",
    "    corrected_img_filename = f\"{subject_name}.bfc.nii.gz\"\n",
    "    corrected_img_path = os.path.join('outdir4', corrected_img_filename)\n",
    "    corrected_nib_img = nib.Nifti1Image(corrected_data, img.affine)\n",
    "    nib.save(corrected_nib_img, corrected_img_path)\n",
    "    \n",
    "    return corrected_img_path"
   ]
  },
  {
   "cell_type": "code",
   "execution_count": null,
   "id": "633a3d85-a22d-4386-9ad0-86433e109be4",
   "metadata": {},
   "outputs": [],
   "source": [
    "# Perform N4 bias field correction on masked T1-weighted image\n",
    "corrected_masked_t1w_image_path = n4_bias_field_correction(masked_t1w_path)\n",
    "\n",
    "# Load the corrected masked T1-weighted image\n",
    "corrected_masked_t1w_image = nib.load(corrected_masked_t1w_image_path)\n",
    "\n",
    "# Plot the corrected masked T1-weighted image\n",
    "plotting.plot_anat(corrected_masked_t1w_image, title=\"N4 Bias Field Corrected Masked T1-weighted Image\", display_mode='ortho')\n",
    "\n",
    "# Display the plots\n",
    "plt.show()"
   ]
  },
  {
   "cell_type": "code",
   "execution_count": null,
   "id": "74c56ab7-7307-4053-9372-4167340f5acd",
   "metadata": {},
   "outputs": [],
   "source": []
  }
 ],
 "metadata": {
  "kernelspec": {
   "display_name": "Python 3.9.12",
   "language": "python",
   "name": "py3912"
  },
  "language_info": {
   "codemirror_mode": {
    "name": "ipython",
    "version": 3
   },
   "file_extension": ".py",
   "mimetype": "text/x-python",
   "name": "python",
   "nbconvert_exporter": "python",
   "pygments_lexer": "ipython3",
   "version": "3.9.12"
  }
 },
 "nbformat": 4,
 "nbformat_minor": 5
}
